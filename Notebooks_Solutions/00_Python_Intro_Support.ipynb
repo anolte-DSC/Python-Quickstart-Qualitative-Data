{
 "cells": [
  {
   "cell_type": "markdown",
   "id": "0318b93e-bdf3-42f4-a933-7970bde1c2b2",
   "metadata": {},
   "source": [
    "<img src=\"../Images/DSC_Logo.png\" style=\"width: 400px;\">"
   ]
  },
  {
   "cell_type": "markdown",
   "id": "81681cfa-8ede-42ce-b9d1-00f06e97716f",
   "metadata": {},
   "source": [
    "# Python Coding Environments and Coding Support"
   ]
  },
  {
   "cell_type": "markdown",
   "id": "5bb5bfd1-0466-4a4a-8b5b-183db1004e25",
   "metadata": {},
   "source": [
    "This notebook provides an overview of tools, techniques, and resources that can support you while writing Python code. There are built-in features within Python and IPython environments, as well as a wide range of external resources that enhance productivity, learning, and problem-solving. \n",
    "\n",
    "When working with Python, it's important to consider your coding environment — whether it's Jupyter Notebook, VS Code, Spyder, or a terminal on a computing cluster — as each offers unique strengths and levels of interactivity. Knowing your options helps you select the setup and support tools that best match your coding needs and goals.\n",
    "\n",
    "## 1. How to work with Python environments\n",
    "\n",
    "## 1.1. Overview of common environments\n",
    "\n",
    "Each environment also shapes how you learn and apply Python in practice: \n",
    "\n",
    "**Jupyter** focuses on interactive, cell-based execution — ideal for experimenting and visualizing code step by step. It also supports Markdown, making it excellent for documentation, which is especially important for **sharing code and teaching**.\n",
    "\n",
    "**Spyder** mimics a MATLAB-style Integrated Development Environment (IDE), offering script-based coding and a built-in console (also similar to RStudio). \n",
    "\n",
    "**VS Code** supports both script-based coding and interactive cells. It also includes powerful IDE features such as integrated terminals, debugging tools, and in-line LLM assistance for completing functions or explaining code snippets as you type. \n",
    "\n",
    "Both Spyder and VS Code include variable explorers (tables showing variable names, types, and values), which make it easy to inspect variables at a glance and explore data interactively through a graphical interface. These environments are excellent choices for **developing scripts and performing data analysis**. \n",
    "\n",
    "Running Python from the **terminal** is also common and often essential when executing existing scripts on systems like **high-performance computing clusters**.\n",
    "\n",
    "Importantly, Python code and libraries are compatible across all environments. While executing notebook code (`.ipynb`) outside of Jupyter typically requires a conversion to a `.py` script, you don’t have to commit to just one environment.\n",
    "\n",
    "## 1.2 How to use these environments?\n",
    "\n",
    "Before using any of the environments mentioned above (Jupyter, Spyder, VS Code, terminal), **Python must be installed** on the system (it's also installed in the background of JupyterHubs). Once Python is installed, each environment can be added as an additional tool — some through package managers, others via standalone installers or distributions.\n",
    "\n",
    "### Installing Python\n",
    "\n",
    "- Download from the official website: [python.org](https://www.python.org/)\n",
    "- Alternatively, install the Anaconda Distribution, which comes with Python, Jupyter, Spyder, and many scientific libraries preinstalled.\n",
    "\n",
    "### Installing & Running Environments\n",
    "\n",
    "The following instructions mainly refer to Windows or macOS systems. Linux users may install these tools via system package managers or use terminal-based workflows.\n",
    "\n",
    "| Environment | Installation Method | How to Run? / Notes |\n",
    "|-------------|----------------------|-------|\n",
    "| **Jupyter Notebook** | `pip install notebook` or `conda install notebook` | Use `jupyter notebook` (in terminal) to launch |\n",
    "| **JupyterLab** | `pip install jupyterlab` or `conda install -c conda-forge jupyterlab` | More modern version of Jupyter Notebook |\n",
    "| **Spyder** | `pip install spyder` or `conda install spyder` | Best used via Anaconda; Use `spyder` (in terminal) to launch or click the Spyder desktop icon  |\n",
    "| **VS Code** | Download from [code.visualstudio.com](https://code.visualstudio.com/) | Install the Python extension after launching: VS Code connects to your Python installation via the Python extension; click the VS Code desktop icon to run |\n",
    "| **Terminal** | Comes with your operating system | Use to run `.py` scripts directly (e.g. `python myscript.py`) |\n",
    "\n",
    "For installation, updates, and documentation, refer to these official websites:\n",
    "- Python: [python.org](https://www.python.org)\n",
    "- Anaconda: [anaconda.com](https://www.anaconda.com)\n",
    "- Jupyter (Notebook & Lab): [jupyter.org](https://jupyter.org)\n",
    "- Spyder IDE: [spyder-ide.org](https://www.spyder-ide.org)\n",
    "- VS Code: [code.visualstudio.com](https://code.visualstudio.com)\n",
    "- Python Extension for VS Code: [VS Code Python Extension](https://marketplace.visualstudio.com/items?itemName=ms-python.python)"
   ]
  },
  {
   "cell_type": "markdown",
   "id": "fd4bab86-c740-4afd-b15d-1f97c9dba9f5",
   "metadata": {},
   "source": [
    "## 2. Inside Python: Built-in Python support\n",
    "\n",
    "## 2.1 In-line assistance (auto-completion)"
   ]
  },
  {
   "cell_type": "markdown",
   "id": "9e74e555-b119-41db-ba5c-cd14e3635169",
   "metadata": {},
   "source": [
    "Type a variable name followed by a dot and press the \"Tab\" key to see auto-completion suggestions."
   ]
  },
  {
   "cell_type": "code",
   "execution_count": 8,
   "id": "c67f0bc4-9228-4e30-b848-b216d5b725b3",
   "metadata": {},
   "outputs": [
    {
     "name": "stdout",
     "output_type": "stream",
     "text": [
      "[1, 2, 3, 4, 5]\n"
     ]
    }
   ],
   "source": [
    "my_list = [1, 2, 3, 4, 5]\n",
    "print(my_list)"
   ]
  },
  {
   "cell_type": "markdown",
   "id": "3f9193cd",
   "metadata": {},
   "source": [
    "In this example, placing the cursor directly after the dot and pressing **⇥ \"Tab\"** should display a list of methods available for a list object, such as `append`, `remove` etc. "
   ]
  },
  {
   "cell_type": "code",
   "execution_count": null,
   "id": "d5b0a07b",
   "metadata": {},
   "outputs": [],
   "source": [
    "%config Completer.use_jedi = False # Disable Jedi to fix auto-completion issues in some environments\n",
    "my_list."
   ]
  },
  {
   "cell_type": "markdown",
   "id": "751540aa-e788-4c4f-8c7a-0dc6bd8cc6b7",
   "metadata": {},
   "source": [
    "Let's remove the 1 from the list:"
   ]
  },
  {
   "cell_type": "code",
   "execution_count": 9,
   "id": "48044d99-b7dd-4e53-b62b-2ce86a948db9",
   "metadata": {},
   "outputs": [
    {
     "data": {
      "text/plain": [
       "[2, 3, 4, 5]"
      ]
     },
     "execution_count": 9,
     "metadata": {},
     "output_type": "execute_result"
    }
   ],
   "source": [
    "my_list.remove(1)\n",
    "my_list"
   ]
  },
  {
   "cell_type": "markdown",
   "id": "bdbb7b66-bf0d-4391-9b6e-cebafd769c41",
   "metadata": {},
   "source": [
    "## 2.2 Docstring pop-ups (IPython)"
   ]
  },
  {
   "cell_type": "markdown",
   "id": "93df2f07-a023-494b-bfcc-f7fd0a74f2f9",
   "metadata": {},
   "source": [
    "A docstring is a short description of what a function, class, or method is supposed to do, what inputs it expects, and what outputs it will return. A docstring pop-up is a feature in some Python editors that displays this description in a small box (\"pop-up\") while you are coding, providing immediate access to helpful information.\n",
    "\n",
    "Place your cursor inside the parentheses of a function and press **⇧ + ⇥ \"Shift + Tab\"**:"
   ]
  },
  {
   "cell_type": "code",
   "execution_count": null,
   "id": "3e1a991b-5d36-4fae-a11d-7d948871c98f",
   "metadata": {
    "scrolled": true
   },
   "outputs": [],
   "source": [
    "len()"
   ]
  },
  {
   "cell_type": "markdown",
   "id": "f1b3a666",
   "metadata": {},
   "source": [
    "You can also access the docstring of the `len` function by running:"
   ]
  },
  {
   "cell_type": "code",
   "execution_count": 18,
   "id": "3ed5ffba",
   "metadata": {},
   "outputs": [
    {
     "name": "stdout",
     "output_type": "stream",
     "text": [
      "Return the number of items in a container.\n"
     ]
    }
   ],
   "source": [
    "print(len.__doc__)"
   ]
  },
  {
   "cell_type": "markdown",
   "id": "21be7c29",
   "metadata": {},
   "source": [
    "## 2.3 `?` and `??` – quick help and source code (IPython only)\n",
    "\n",
    "- function? shows the docstring\n",
    "- function?? also shows the source code (if available)"
   ]
  },
  {
   "cell_type": "code",
   "execution_count": 22,
   "id": "90e47cc3",
   "metadata": {},
   "outputs": [],
   "source": [
    "len?"
   ]
  },
  {
   "cell_type": "markdown",
   "id": "f5abe0e1-f39f-4326-8ed7-beec0b2e925d",
   "metadata": {},
   "source": [
    "## 2.4 Using the `help()` function"
   ]
  },
  {
   "cell_type": "markdown",
   "id": "a2b3dd34-6ce7-4f4f-8b26-78d1ba4b63c6",
   "metadata": {},
   "source": [
    "The `help()` function in Python provides a built-in way to access documentation for any object, function, or module. When calling `help(greet)` in the example below, it displays the docstring of the `greet` function, including it's parameters (here: name). "
   ]
  },
  {
   "cell_type": "code",
   "execution_count": 10,
   "id": "0faa0fd3-9205-43ae-aa0f-3178350b6552",
   "metadata": {},
   "outputs": [],
   "source": [
    "def greet(name):\n",
    "    return f\"Hello, {name}!\""
   ]
  },
  {
   "cell_type": "code",
   "execution_count": 11,
   "id": "96b57640-733a-43c1-afb2-7c2f6ea41dc3",
   "metadata": {},
   "outputs": [
    {
     "name": "stdout",
     "output_type": "stream",
     "text": [
      "Help on function greet in module __main__:\n",
      "\n",
      "greet(name)\n",
      "\n"
     ]
    }
   ],
   "source": [
    "help(greet)"
   ]
  },
  {
   "cell_type": "markdown",
   "id": "ff5d3e45-b555-48eb-a160-0566352a6248",
   "metadata": {},
   "source": [
    "## 2.5 Discover available attributes and methods with `dir()`\n",
    "\n",
    "The `dir()` function in Python is used to find out which names (attributes and methods) are defined in a module, class, or object. The pupose is to get the list of attributes and methods of an object."
   ]
  },
  {
   "cell_type": "code",
   "execution_count": 12,
   "id": "11c5924e-4fc1-4aed-b5c5-b871dac841c3",
   "metadata": {
    "scrolled": true
   },
   "outputs": [
    {
     "data": {
      "text/plain": [
       "['__doc__',\n",
       " '__loader__',\n",
       " '__name__',\n",
       " '__package__',\n",
       " '__spec__',\n",
       " 'acos',\n",
       " 'acosh',\n",
       " 'asin',\n",
       " 'asinh',\n",
       " 'atan',\n",
       " 'atan2',\n",
       " 'atanh',\n",
       " 'cbrt',\n",
       " 'ceil',\n",
       " 'comb',\n",
       " 'copysign',\n",
       " 'cos',\n",
       " 'cosh',\n",
       " 'degrees',\n",
       " 'dist',\n",
       " 'e',\n",
       " 'erf',\n",
       " 'erfc',\n",
       " 'exp',\n",
       " 'exp2',\n",
       " 'expm1',\n",
       " 'fabs',\n",
       " 'factorial',\n",
       " 'floor',\n",
       " 'fmod',\n",
       " 'frexp',\n",
       " 'fsum',\n",
       " 'gamma',\n",
       " 'gcd',\n",
       " 'hypot',\n",
       " 'inf',\n",
       " 'isclose',\n",
       " 'isfinite',\n",
       " 'isinf',\n",
       " 'isnan',\n",
       " 'isqrt',\n",
       " 'lcm',\n",
       " 'ldexp',\n",
       " 'lgamma',\n",
       " 'log',\n",
       " 'log10',\n",
       " 'log1p',\n",
       " 'log2',\n",
       " 'modf',\n",
       " 'nan',\n",
       " 'nextafter',\n",
       " 'perm',\n",
       " 'pi',\n",
       " 'pow',\n",
       " 'prod',\n",
       " 'radians',\n",
       " 'remainder',\n",
       " 'sin',\n",
       " 'sinh',\n",
       " 'sqrt',\n",
       " 'tan',\n",
       " 'tanh',\n",
       " 'tau',\n",
       " 'trunc',\n",
       " 'ulp']"
      ]
     },
     "execution_count": 12,
     "metadata": {},
     "output_type": "execute_result"
    }
   ],
   "source": [
    "import math\n",
    "dir(math)"
   ]
  },
  {
   "cell_type": "markdown",
   "id": "bae4c2c5",
   "metadata": {},
   "source": [
    "## 2.6 Check the type of a variable with `type()`\n",
    "\n",
    "The `type()` function in Python is used to display the type (class) of a variable or object."
   ]
  },
  {
   "cell_type": "code",
   "execution_count": 16,
   "id": "25a127b6",
   "metadata": {},
   "outputs": [
    {
     "data": {
      "text/plain": [
       "list"
      ]
     },
     "execution_count": 16,
     "metadata": {},
     "output_type": "execute_result"
    }
   ],
   "source": [
    "type(my_list)"
   ]
  },
  {
   "cell_type": "markdown",
   "id": "655b5473-042d-4c6e-804f-51f7c94b902a",
   "metadata": {},
   "source": [
    "## 2.7 IPython magic functions"
   ]
  },
  {
   "cell_type": "markdown",
   "id": "e3b146aa-dd33-490d-bdda-7cece0193c16",
   "metadata": {},
   "source": [
    "Magic functions are not a standard feature of Python but a powerful tool in IPython-compatible environments (like Jupyter Notebook and Spyder’s IPython console). IPython magic functions are special commands that provide additional functionality. They are prefixed with `%` for line magics (commands that operate on a single line) and `%%` for cell magics (commands that operate on the entire cell). "
   ]
  },
  {
   "cell_type": "markdown",
   "id": "3699f607-e187-4891-8336-41e28b8a4cd5",
   "metadata": {},
   "source": [
    "Using `%time` to measure execution of a single statement:"
   ]
  },
  {
   "cell_type": "code",
   "execution_count": 13,
   "id": "55b1e3ff-a1cb-474e-8db3-1cf32e344951",
   "metadata": {},
   "outputs": [
    {
     "name": "stdout",
     "output_type": "stream",
     "text": [
      "CPU times: total: 9.73 s\n",
      "Wall time: 10.2 s\n"
     ]
    },
    {
     "data": {
      "text/plain": [
       "4999999950000000"
      ]
     },
     "execution_count": 13,
     "metadata": {},
     "output_type": "execute_result"
    }
   ],
   "source": [
    "%time sum(range(100000000))"
   ]
  },
  {
   "cell_type": "markdown",
   "id": "ca6d3eb5-3298-43a6-840d-f312104d5b36",
   "metadata": {},
   "source": [
    "Using `%who` to display all variables in the current interactive environment, including those carried over from previous code executions within the same session or notebook:"
   ]
  },
  {
   "cell_type": "code",
   "execution_count": 15,
   "id": "11c78c23-f5e5-45a5-a939-6f3e1b6644d3",
   "metadata": {},
   "outputs": [
    {
     "name": "stdout",
     "output_type": "stream",
     "text": [
      "greet\t math\t my_list\t x\t y\t \n"
     ]
    }
   ],
   "source": [
    "x = 10\n",
    "y = \"Hello\"\n",
    "%who "
   ]
  },
  {
   "cell_type": "markdown",
   "id": "0d5000cd",
   "metadata": {},
   "source": [
    "Display all or part of your input history with `%history`:"
   ]
  },
  {
   "cell_type": "code",
   "execution_count": 23,
   "id": "30ed1d09",
   "metadata": {
    "scrolled": true
   },
   "outputs": [
    {
     "name": "stdout",
     "output_type": "stream",
     "text": [
      "my_list.\n",
      "%config Completer.use_jedi = False\n",
      "my_list = [1, 2, 3, 4, 5]\n",
      "print(my_list)\n",
      "len?\n",
      "len?\n",
      "len()\n",
      "len?\n",
      "my_list = [1, 2, 3, 4, 5]\n",
      "print(my_list)\n",
      "my_list.remove(1)\n",
      "my_list\n",
      "def greet(name):\n",
      "    return f\"Hello, {name}!\"\n",
      "help(greet)\n",
      "import math\n",
      "dir(math)\n",
      "%time sum(range(100000000))\n",
      "x = 10\n",
      "y = \"Hello\"\n",
      "x = 10\n",
      "y = \"Hello\"\n",
      "%who\n",
      "type(my_list)\n",
      "print(len.__doc__)\n",
      "print(len.__doc__)\n",
      "len?\n",
      "len??\n",
      "len??\n",
      "len?\n",
      "%history\n"
     ]
    }
   ],
   "source": [
    "%history"
   ]
  },
  {
   "cell_type": "markdown",
   "id": "0929249c-8487-4060-91c9-39a473decd4b",
   "metadata": {},
   "source": [
    "## 3. External support resources & tools\t\n",
    "\n",
    "These tools and platforms live outside the Python environment but are helpful during coding, learning, or debugging."
   ]
  },
  {
   "cell_type": "markdown",
   "id": "d6785247",
   "metadata": {},
   "source": [
    "## 3.1 Traditional platforms for coding support\n",
    "\n",
    "- **Q&A Forums** – Platforms like Stack Overflow and Reddit offer real-world solutions, and community-driven explanations.\n",
    "- **In-Depth Articles & Tutorials** – Blogs on Medium, R-bloggers, and developer notebooks on Kaggle often provide rich walkthroughs and best practices.\n",
    "- **Official Documentation** – Authoritative and up-to-date sources like official documentations of Python libraries and GitHub repos help you understand libraries and syntax.\n",
    "- **(Online) Courses & Workshops** – Structured self-learning via platforms like Coursera, Udemy, or platforms providing Open Educational Resources (OER) such as OER Commons or Data Carpentry, but also repositories such as GitHub and Zenodo; in-person training sessions with instructors.\n",
    "- **YouTube & Video Content** \n",
    "- **Scientific Papers** – Best practice: Academic research papers include code and methods that can be studied and adapted from researchers.\n",
    "- **Resources to Find Data (With Code)** – Kaggle is a mjaor source of public datasets, code notebooks, competitions, and kernels to test and learn. Workflows on GitHub are generally also published together with datasets. Hugging Face Datasets, ..."
   ]
  },
  {
   "cell_type": "markdown",
   "id": "67313eec",
   "metadata": {},
   "source": [
    "## 3.2 Python coding buddy: Large-language models\n",
    "\n",
    "Large Language Models (LLMs) act as intelligent assistants - either through chatbots like ChatGPT, or directly within IDEs such as VSCode."
   ]
  },
  {
   "cell_type": "markdown",
   "id": "33c5c932-b578-4694-94fc-12fdfdd27a5b",
   "metadata": {},
   "source": [
    "<img src=\"../Images/cat_LLMs.jpg\" style=\"width: 300px;\">"
   ]
  },
  {
   "cell_type": "code",
   "execution_count": null,
   "id": "036d57e9-6242-416f-b994-957c6f06dbb2",
   "metadata": {},
   "outputs": [],
   "source": []
  }
 ],
 "metadata": {
  "kernelspec": {
   "display_name": "Python 3 (ipykernel)",
   "language": "python",
   "name": "python3"
  },
  "language_info": {
   "codemirror_mode": {
    "name": "ipython",
    "version": 3
   },
   "file_extension": ".py",
   "mimetype": "text/x-python",
   "name": "python",
   "nbconvert_exporter": "python",
   "pygments_lexer": "ipython3",
   "version": "3.11.9"
  }
 },
 "nbformat": 4,
 "nbformat_minor": 5
}
