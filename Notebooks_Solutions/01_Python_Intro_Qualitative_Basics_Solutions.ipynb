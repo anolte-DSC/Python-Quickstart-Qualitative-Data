{
 "cells": [
  {
   "cell_type": "markdown",
   "id": "48eca60f-5bb9-49b3-aebd-30cffd9d99cb",
   "metadata": {},
   "source": [
    "<img src=\"../Images/DSC_Logo.png\" style=\"width: 400px;\">"
   ]
  },
  {
   "cell_type": "markdown",
   "id": "8051eda2-061c-4f50-8fd9-6e889e221bc1",
   "metadata": {},
   "source": [
    "# Basic Programming Concepts in Python\n",
    "\n",
    "This notebook provides a foundational introduction to Python, with a focus on basic programming concepts such as variables, data types, functions, conditionals, and loops. It is intended for beginners and emphasizes the basic syntax and functionalities of Python to help users build a solid starting point for further exploration, including applications in qualitative research."
   ]
  },
  {
   "cell_type": "markdown",
   "id": "aba330d0-700d-46f0-b044-3ecbf917e5b7",
   "metadata": {},
   "source": [
    "## 1. The Print Function\n",
    "\n",
    "The `print()` function in Python displays text or other data on the screen. To print text, place it within quotation marks (`\"` or `'`) inside parentheses, like `print(\"Hello, Python!\")`."
   ]
  },
  {
   "cell_type": "code",
   "execution_count": null,
   "id": "07156fb8-fb8f-42ce-807e-ce7b716fc2cc",
   "metadata": {},
   "outputs": [],
   "source": [
    "print(\"Hello, Python!\")"
   ]
  },
  {
   "cell_type": "markdown",
   "id": "f922c603-88d0-4936-a269-864355867b94",
   "metadata": {},
   "source": [
    "For dynamic messages, we can store data in variables and include them in our output using `print()`. In interactive environments like Jupyter notebooks, typing just the variable name also shows its value — but in regular Python scripts, you must use `print()`.\n",
    "\n",
    "So, what is a **variable**?"
   ]
  },
  {
   "cell_type": "markdown",
   "id": "704e582f-73fb-446c-85c7-25bf85c611e7",
   "metadata": {},
   "source": [
    "## 2. Variables and Data Types\n",
    "\n",
    "## 2.1 Introduction\n",
    "\n",
    "Imagine you're planning to build a garden shed. You’ll need to know things like:\n",
    "- the shed’s dimensions\n",
    "- how many wooden planks are available\n",
    "- whether windows will be installed\n",
    "\n",
    "You can use variables to store all this information. Think of them as labeled containers that help you keep the construction site organized. By organizing your data this way, your “construction crew” (aka Python) can make decisions, perform calculations, and adapt as things change."
   ]
  },
  {
   "cell_type": "markdown",
   "id": "364adbb4-6105-47a4-aeca-5bb715255444",
   "metadata": {},
   "source": [
    "<img src=\"../Images/garden_shed.jpg\" style=\"width: 300px;\">\n",
    "\n",
    "*Image created with Googles Gemini model*"
   ]
  },
  {
   "cell_type": "markdown",
   "id": "3204bd50-eefc-4b0f-b339-d189927e4e9c",
   "metadata": {},
   "source": [
    "## 2.2 Data Types\n",
    "\n",
    "Variables can store different types of data. In Python, **data types** define the kind of value a variable holds. Each type tells Python how to store the value in memory and what you can do with it. Let's define some variables for the details of the shed construction site:"
   ]
  },
  {
   "cell_type": "code",
   "execution_count": null,
   "id": "ab8f6cab-18f2-4674-a145-4d834acee282",
   "metadata": {},
   "outputs": [],
   "source": [
    "# Dimensions in meters (float)\n",
    "shed_length = 3.0\n",
    "shed_width = 2.5\n",
    "\n",
    "# Material count (int)\n",
    "wood_planks = 40\n",
    "\n",
    "# Installation status (bool)\n",
    "windows_installed = False\n",
    "\n",
    "# Supervisor's name (string)\n",
    "supervisor = \"Alice\""
   ]
  },
  {
   "cell_type": "markdown",
   "id": "cbc5ed12-c3d4-4f4d-9929-024808f9e92e",
   "metadata": {},
   "source": [
    "Let's print a dynamic status report:"
   ]
  },
  {
   "cell_type": "code",
   "execution_count": null,
   "id": "15808e57-f29d-4629-b233-95439d8cd17c",
   "metadata": {},
   "outputs": [],
   "source": [
    "print(f\"Supervisor: {supervisor}\")\n",
    "print(f\"Shed dimensions: {shed_length}m x {shed_width}m\")\n",
    "print(f\"Wooden planks available: {wood_planks}\")\n",
    "print(f\"Windows installed? {windows_installed}\")"
   ]
  },
  {
   "cell_type": "markdown",
   "id": "0a959a18-6957-4840-bc74-dc267a559117",
   "metadata": {},
   "source": [
    "The `supervisor` variable is of **string (`str`)** type. That is a sequence of characters used to store text. It must be enclosed in matching quotation marks. To create a long text across multiple lines, use triple quotes: `'''`.\n",
    "\n",
    "Python supports two main **numeric types: `int` and `float`**. An integer (`int`) is a whole number without a decimal point, such as 3 or 2025. A float (`float`) is a number with a decimal point, like 2.5 or 0.75. \n",
    "\n",
    "A **boolean (`bool`)** represents a truth value: either `True` or `False` (capitalized). It's often used to represent binary states, such as yes/no, on/off, or installed/not installed.\n",
    "\n",
    "Once you’ve named your variables correctly, you might want to check what kind of data they store — whether it's a number, a string of text, or something else. For that, Python gives you the handy `type()` function:"
   ]
  },
  {
   "cell_type": "code",
   "execution_count": null,
   "id": "0cce08d7-e7fc-4100-a4a9-5b4b7bb8dfc7",
   "metadata": {},
   "outputs": [],
   "source": [
    "type(supervisor)"
   ]
  },
  {
   "cell_type": "markdown",
   "id": "2e8c7d09-6233-4da3-97ea-7b767deae6d3",
   "metadata": {},
   "source": [
    "### **Exercise 1:** \n",
    "\n",
    "Add more details to your construction site. Define at least three additional variables of different data types to describe your shed or building site even better. Examples: What color will the shed be? Is the permit approved? Height of the shed?"
   ]
  },
  {
   "cell_type": "code",
   "execution_count": null,
   "id": "bec0f21b-1e35-4d90-9b68-50fde8cf3def",
   "metadata": {},
   "outputs": [],
   "source": [
    "# What color will the shed be? (str)\n",
    "shed_color = \"red\"\n",
    "\n",
    "# Is the permit approved? (bool)\n",
    "permit_approved = True\n",
    "\n",
    "# Height of the shed (float)\n",
    "shed_height = 2.8"
   ]
  },
  {
   "cell_type": "markdown",
   "id": "8f9473b5-ebf1-4dad-98e6-865bd898f42f",
   "metadata": {},
   "source": [
    "## 2.3 Working with Variables & Data Types\n",
    "\n",
    "Now that we've defined some variables to describe our construction site, let’s see how we can work with them. Variables aren’t just storage - they can be used to perform calculations, create messages, and update their values as the project progresses.\n",
    "\n",
    "## 2.3.1 Basic Functionalities"
   ]
  },
  {
   "cell_type": "markdown",
   "id": "fb9f663f-78f3-4e87-b940-70edc8a4ec08",
   "metadata": {},
   "source": [
    "- You can simply **overwrite** your variables:"
   ]
  },
  {
   "cell_type": "code",
   "execution_count": null,
   "id": "f8cbe542-6edd-4844-9bfe-93720690d1a0",
   "metadata": {},
   "outputs": [],
   "source": [
    "windows_installed = True\n",
    "print(windows_installed)"
   ]
  },
  {
   "cell_type": "markdown",
   "id": "5d802852-b1f9-4bef-a0cc-94bc6abcf216",
   "metadata": {},
   "source": [
    "- To **change the data type**:"
   ]
  },
  {
   "cell_type": "code",
   "execution_count": null,
   "id": "d0eaa1bc-7b3e-4b94-b2f3-b9d8de45eb5c",
   "metadata": {},
   "outputs": [],
   "source": [
    "# int to float\n",
    "wood_planks_float = float(wood_planks)     \n",
    "type(wood_planks_float)"
   ]
  },
  {
   "cell_type": "code",
   "execution_count": null,
   "id": "8bf49f85-124b-4762-ba9d-c9d569d1b672",
   "metadata": {},
   "outputs": [],
   "source": [
    "# float to string\n",
    "shed_length_str = str(shed_length)\n",
    "type(shed_length_str)"
   ]
  },
  {
   "cell_type": "markdown",
   "id": "012c7557-3d21-4484-bbfc-3741086f352f",
   "metadata": {},
   "source": [
    "- Let’s **calculate** the floor area of the shed by multiplying its length and width:"
   ]
  },
  {
   "cell_type": "code",
   "execution_count": null,
   "id": "b0dc5477-2faa-4840-b80b-b6b144357376",
   "metadata": {},
   "outputs": [],
   "source": [
    "floor_area = shed_length * shed_width\n",
    "print(floor_area)"
   ]
  },
  {
   "cell_type": "markdown",
   "id": "53aa0ae2-cb60-41da-9df4-4e3183df5491",
   "metadata": {},
   "source": [
    "- We can also **combine string** variables to create more useful messages:"
   ]
  },
  {
   "cell_type": "code",
   "execution_count": null,
   "id": "37f8fa6c-9cfc-46b4-b6e1-cdd4109b81a2",
   "metadata": {},
   "outputs": [],
   "source": [
    "supervisors = supervisor + '; Linus'\n",
    "print(supervisors)"
   ]
  },
  {
   "cell_type": "markdown",
   "id": "a975dbad-374a-4b4a-a331-6e5f60b781ec",
   "metadata": {},
   "source": [
    "### 2.3.2 String Methods\n",
    "\n",
    "Python provides methods to modify or analyze strings. Let's investigate some of them using the sentence `\"Construction begins now!`"
   ]
  },
  {
   "cell_type": "code",
   "execution_count": null,
   "id": "4c605fd3-9621-4085-b777-b72452907ac7",
   "metadata": {},
   "outputs": [],
   "source": [
    "sentence = \"Construction begins now!\""
   ]
  },
  {
   "cell_type": "markdown",
   "id": "c122325c-8261-437c-9e24-095c94fceee3",
   "metadata": {},
   "source": [
    "- `upper()`, `lower()`, `capitalize()`:"
   ]
  },
  {
   "cell_type": "code",
   "execution_count": null,
   "id": "66a9de15-ea6c-47cc-b3da-0e9c8c2789b9",
   "metadata": {},
   "outputs": [],
   "source": [
    "print(sentence.upper())       # All caps\n",
    "print(sentence.lower())       # All lowercase\n",
    "print(\"alice\".capitalize())   # Capitalized"
   ]
  },
  {
   "cell_type": "markdown",
   "id": "6622e669-03bf-4724-b8d5-0a11a4a1dc3e",
   "metadata": {},
   "source": [
    "- `replace()` - Replace part of a string:"
   ]
  },
  {
   "cell_type": "code",
   "execution_count": null,
   "id": "c24ddbfa-deed-45c5-a254-7018d54f0824",
   "metadata": {},
   "outputs": [],
   "source": [
    "print(sentence.replace(\"now\", \"tomorrow\"))"
   ]
  },
  {
   "cell_type": "markdown",
   "id": "72c472d1-252f-45af-b7bc-f00bfadc2f55",
   "metadata": {},
   "source": [
    "- `split()` - Break a string into a list of words:"
   ]
  },
  {
   "cell_type": "code",
   "execution_count": null,
   "id": "27a53c26-a96e-4d9a-ab3b-1b10b36e37ba",
   "metadata": {},
   "outputs": [],
   "source": [
    "words = sentence.split()\n",
    "print(words)"
   ]
  },
  {
   "cell_type": "markdown",
   "id": "ec798fe2-d22c-4108-b32c-9c9a0ba50499",
   "metadata": {},
   "source": [
    "- To split on specific characters:"
   ]
  },
  {
   "cell_type": "code",
   "execution_count": null,
   "id": "07ce8be6-3a8a-45f9-ad90-71cfbaefc1cb",
   "metadata": {},
   "outputs": [],
   "source": [
    "csv_line = \"Alice,Engineer,35\"\n",
    "fields = csv_line.split(\",\")\n",
    "print(fields)"
   ]
  },
  {
   "cell_type": "markdown",
   "id": "d613d4af-85d2-430a-9036-64d2ba02be0a",
   "metadata": {},
   "source": [
    "- `strip()` - Removes leading /trailing spaces:"
   ]
  },
  {
   "cell_type": "code",
   "execution_count": null,
   "id": "4a69e045-1e9d-47a1-9fe4-53ffd9011911",
   "metadata": {},
   "outputs": [],
   "source": [
    "sentence = \"Construction begins now! \" # Redefine with trailing space\n",
    "print(f\"[{sentence}]\")                 # Show original with visible boundary\n",
    "print(f\"[{sentence.strip()}]\")         # Show stripped version with visible boundary"
   ]
  },
  {
   "cell_type": "markdown",
   "id": "e6830761-5a3b-4f10-a4fb-73a5d87e1423",
   "metadata": {},
   "source": [
    "- Index slicing:"
   ]
  },
  {
   "cell_type": "code",
   "execution_count": null,
   "id": "5ccbe5a4-c4b4-4a7b-9b22-53a0cf6b1421",
   "metadata": {},
   "outputs": [],
   "source": [
    "print(sentence[:8])    # First 8 characters (left)\n",
    "print(sentence[-4:])   # Last 4 characters (right)"
   ]
  },
  {
   "cell_type": "markdown",
   "id": "68242cc0-5d0e-404b-9f8e-e1c187bf36ae",
   "metadata": {},
   "source": [
    "### **Exercise 2:** \n",
    "\n",
    "The filenames you received from an interview study are inconsistent and poorly formatted, like this:"
   ]
  },
  {
   "cell_type": "code",
   "execution_count": null,
   "id": "fd70c5d5-81ad-4aff-9d24-db2f41042bca",
   "metadata": {},
   "outputs": [],
   "source": [
    "raw_filename = \"  Interview 02-JOHN DOE .txt\""
   ]
  },
  {
   "cell_type": "markdown",
   "id": "8c402caa-ff60-41de-829f-e6bddb235104",
   "metadata": {},
   "source": [
    "Write some code to transform `raw_filename` into this clean format: \"interview_02_john_doe\""
   ]
  },
  {
   "cell_type": "code",
   "execution_count": null,
   "id": "c5a0f06f-9992-4a2c-bfe2-e97c4464778c",
   "metadata": {},
   "outputs": [],
   "source": [
    "cleaned = raw_filename[:-4]          # Removes the last 4 characters (e.g., '.txt' file extension)\n",
    "cleaned = cleaned.strip()            # Removes leading and trailing whitespace\n",
    "cleaned = cleaned.lower()            # Converts all characters to lowercase\n",
    "cleaned = cleaned.replace(\" \", \"_\")  # Replaces spaces with underscores\n",
    "cleaned = cleaned.replace(\"-\", \"_\")  # Replaces spaces and hyphens with underscores\n",
    "print(cleaned)                    "
   ]
  },
  {
   "cell_type": "markdown",
   "id": "cf888739-c99c-4e23-b942-72336cd4d3bc",
   "metadata": {},
   "source": [
    "## 2.4 Why and How Naming and Data Types Matter in Python\n",
    "\n",
    "As you define variables in Python, you’ll need to be thoughtful about the names you choose and understand the kind of data each variable holds. Some words can’t be used as variable names because Python reserves them for its own commands — these are called reserved words. To see the full list, run the following command:"
   ]
  },
  {
   "cell_type": "code",
   "execution_count": null,
   "id": "5f3dbb2a-6543-44c4-8b77-d25cc941429f",
   "metadata": {},
   "outputs": [],
   "source": [
    "help(\"keywords\")"
   ]
  },
  {
   "cell_type": "markdown",
   "id": "f46f8d56-93a6-485b-a945-ced1bec530a3",
   "metadata": {},
   "source": [
    "Running the following code line will cause an error:"
   ]
  },
  {
   "cell_type": "code",
   "execution_count": null,
   "id": "827a283d-b381-4c48-8b4a-0e6457f3e261",
   "metadata": {},
   "outputs": [],
   "source": [
    "if = \"something\""
   ]
  },
  {
   "cell_type": "markdown",
   "id": "be0a7e25-0aa1-4d36-b99b-5a8e4acd9aba",
   "metadata": {},
   "source": [
    "In addition, Python includes many built-in names like `list`, `int`, or `str` that serve special purposes. While Python will technically let you reuse these names for your own variables, doing so can lead to confusing behavior, so it’s best to avoid them."
   ]
  },
  {
   "cell_type": "code",
   "execution_count": null,
   "id": "57690750-06a6-401e-a266-1285de78bfcf",
   "metadata": {
    "scrolled": true
   },
   "outputs": [],
   "source": [
    "import builtins\n",
    "[getattr(builtins, d) for d in dir(builtins) if isinstance(getattr(builtins, d), type)]"
   ]
  },
  {
   "cell_type": "markdown",
   "id": "d2ac15c5-bf63-4b90-a687-bb858145bdde",
   "metadata": {},
   "source": [
    "You’ll notice that the following code works, but it’s not a good idea:"
   ]
  },
  {
   "cell_type": "code",
   "execution_count": null,
   "id": "0766fff4-cdfe-4c00-82c6-2f4a8148d903",
   "metadata": {},
   "outputs": [],
   "source": [
    "str = \"Alice\""
   ]
  },
  {
   "cell_type": "markdown",
   "id": "62a53710-9a9a-4d8b-a983-2190fba8339c",
   "metadata": {},
   "source": [
    "This line redefines the built-in Python function `str`, which is normally used to convert other values into strings (e.g., `str(123)` gives \"123\"). Now, if you try to use `str()` later in your code, it will cause an error:"
   ]
  },
  {
   "cell_type": "code",
   "execution_count": null,
   "id": "940ddfb9-407e-4b69-870b-5334adac2559",
   "metadata": {},
   "outputs": [],
   "source": [
    "str(123)"
   ]
  },
  {
   "cell_type": "markdown",
   "id": "afdfb5b3-7d4a-4506-82f0-b9d9063359ef",
   "metadata": {},
   "source": [
    "How to fix? Use the `del` function to remove the bad variable. Then using the `str` function will work again:"
   ]
  },
  {
   "cell_type": "code",
   "execution_count": null,
   "id": "099e091e-9923-4910-8ac0-88b44fa8c96b",
   "metadata": {},
   "outputs": [],
   "source": [
    "del(str)\n",
    "str(123)"
   ]
  },
  {
   "cell_type": "markdown",
   "id": "699a072a-3ae3-4e1a-a9b2-3fd389e2c9af",
   "metadata": {},
   "source": [
    "## 3. Bugs 🐞\n",
    "\n",
    "In Python, when something goes wrong, the interpreter gives you an error message. This message tells you what kind of problem occurred and often where it happened. Errors are completely normal — they’re Python’s way of waving a flag saying: “Hey! Something’s missing or out of place!”. They help you fix things before you build further. Learning to read and understand error messages is one of the most important skills in coding.\n",
    "\n",
    "Here is an example: Python is case sensitive and we defined the `supervisor` variable with a lowercase `s`, but tried to use an uppercase `S`:"
   ]
  },
  {
   "cell_type": "code",
   "execution_count": null,
   "id": "8eff2768-434b-485c-8f66-ee75b80ba0e1",
   "metadata": {},
   "outputs": [],
   "source": [
    "print(Supervisor)  # Oops! Capital S"
   ]
  },
  {
   "cell_type": "markdown",
   "id": "a2c2e87a-9c13-489a-ba1d-107819a0ff6a",
   "metadata": {},
   "source": [
    "### **Exercise 3:** \n",
    "\n",
    "Fix the error message and print the supervisor name. \n",
    "\n",
    "In addition, try to fix the following code block that aims to create a label for a garden shed storage bin:"
   ]
  },
  {
   "cell_type": "code",
   "execution_count": null,
   "id": "9f4e7cb9-7414-47ac-8b7b-98de1811abe5",
   "metadata": {},
   "outputs": [],
   "source": [
    "bin_label = \"Shelf\"\n",
    "bin_number = 3\n",
    "full_label = bin_label + bin_number\n",
    "print(\"Storage label:\", full_label)"
   ]
  },
  {
   "cell_type": "code",
   "execution_count": null,
   "id": "b8c526a2-2a38-4baa-954f-32db708d3fcb",
   "metadata": {},
   "outputs": [],
   "source": [
    "print(supervisor) "
   ]
  },
  {
   "cell_type": "code",
   "execution_count": null,
   "id": "5d32ede0-0ce5-42c0-8442-f19ce09cf04a",
   "metadata": {},
   "outputs": [],
   "source": [
    "bin_label = \"Shelf\"\n",
    "bin_number = 3\n",
    "full_label = bin_label + str(bin_number)\n",
    "print(\"Storage label:\", full_label)"
   ]
  },
  {
   "cell_type": "markdown",
   "id": "525dc51a-8ee2-4b62-a5b1-8917dcb6ba26",
   "metadata": {},
   "source": [
    "## 4. Data Structures\n",
    "In the last section, we worked with basic data types in Python. Each of these stores one single piece of data. In this section, we focus on data structures, which are **objects that groups multiple items into one container**. Unlike a single integer or string, a data structure can hold several values at once, sometimes of different types. Python's four core built-in data structures are: `list`, `tuple`, `set`, `dictionary`."
   ]
  },
  {
   "cell_type": "markdown",
   "id": "b9b5f3a8-e02a-4433-9249-e6e783a4dff9",
   "metadata": {},
   "source": [
    "## 4.1 Lists: A Mutable Sequence\n",
    "\n",
    "In Python, lists are defined using square brackets `[]`, and they can contain multiple items in an ordered sequence. Lists can store multiple items of any type, and their content can be changed after creation (mutable).\n",
    "\n",
    "This list contains an `int`, a `float`, two `str`, and a `bool`:"
   ]
  },
  {
   "cell_type": "code",
   "execution_count": null,
   "id": "cc34e2dd-19ec-4be2-9a7f-1636d99978bc",
   "metadata": {},
   "outputs": [],
   "source": [
    "materials = [3, 2.5, \"wood\", \"paint\", True]\n",
    "print(materials)"
   ]
  },
  {
   "cell_type": "markdown",
   "id": "9bb4f831-7a75-4a41-ab1e-5c1190a68f00",
   "metadata": {},
   "source": [
    "You can access individual list items using their **index**. Python uses **zero-based indexing**, meaning the first item is at position 0. This rule applies not only to lists, but also to other ordered data structures. \n",
    "\n",
    "Let's access the first, third and last item of the list:"
   ]
  },
  {
   "cell_type": "code",
   "execution_count": null,
   "id": "eb3dc4d2-17c3-4ea0-bdf8-8a6ca791e0d1",
   "metadata": {},
   "outputs": [],
   "source": [
    "print(materials[0])   # 3 (first item)\n",
    "print(materials[2])   # \"wood\" (third item)\n",
    "print(materials[-1])  # True (last item)"
   ]
  },
  {
   "cell_type": "markdown",
   "id": "ec4c08b5-8a83-4dad-814b-c07814a5badb",
   "metadata": {},
   "source": [
    "Let's modify the list and add another item using the `append` function:"
   ]
  },
  {
   "cell_type": "code",
   "execution_count": null,
   "id": "caf5c761-366f-4910-af9f-857a8eb78852",
   "metadata": {},
   "outputs": [],
   "source": [
    "materials.append(\"roof\")\n",
    "print(materials)"
   ]
  },
  {
   "cell_type": "markdown",
   "id": "d919d101-2030-4daa-a151-bffd7360798c",
   "metadata": {},
   "source": [
    "## 4.2 Tuples: An Immutable Sequence\n",
    "\n",
    "A tuple is similar to a list, but its contents cannot be changed (immutable). Use tuples when you want to protect data from being modified accidentally. Tuples are defined using parentheses `()`:"
   ]
  },
  {
   "cell_type": "code",
   "execution_count": null,
   "id": "975384b7-cffc-45fb-90f9-8214dda1f993",
   "metadata": {},
   "outputs": [],
   "source": [
    "dimensions = (3.0, 2.5, \"meters\")\n",
    "print(dimensions)"
   ]
  },
  {
   "cell_type": "markdown",
   "id": "db03cc4c-1f5b-4be3-a8c0-f01628e3a7fe",
   "metadata": {},
   "source": [
    "Accessing elements in tuples like with lists:"
   ]
  },
  {
   "cell_type": "code",
   "execution_count": null,
   "id": "3dedd036-02b4-4af1-a74c-5bf947e46196",
   "metadata": {},
   "outputs": [],
   "source": [
    "print(dimensions[0])  # 3.0 (first item)"
   ]
  },
  {
   "cell_type": "markdown",
   "id": "0adba993-12a5-4af6-8711-2fcbe80e7799",
   "metadata": {},
   "source": [
    "Adding another item to the tuple with `append` won't work because tuples do not support methods that change their contents:"
   ]
  },
  {
   "cell_type": "code",
   "execution_count": null,
   "id": "2bffb32c-55d0-4175-bb9d-cb1b49b2316b",
   "metadata": {},
   "outputs": [],
   "source": [
    "dimensions.append(\"4.1\")"
   ]
  },
  {
   "cell_type": "markdown",
   "id": "bd802fd0-d484-4308-bac5-3941ac60e381",
   "metadata": {},
   "source": [
    "## 4.3 Sets: No Duplicates Allowed\n",
    "\n",
    "A set is an unordered collection of unique elements. Sets are mutable, but they automatically remove duplicate values, i.e. they are useful when you need to deduplicate data. They use curly braces `{}`."
   ]
  },
  {
   "cell_type": "code",
   "execution_count": null,
   "id": "3aa5e5d1-bc30-47c3-ac8e-71b0a5378082",
   "metadata": {},
   "outputs": [],
   "source": [
    "crew = {\"Alice\", \"Bob\", \"Alice\", \"Linus\"}\n",
    "print(crew)  # Output: {'Alice', 'Bob', 'Charlie'}"
   ]
  },
  {
   "cell_type": "markdown",
   "id": "baf9cf31-b5de-48f5-a797-11c109e8bcab",
   "metadata": {},
   "source": [
    "## 4.4 Dictionaries: Key-Value Pairs\n",
    "\n",
    "Dictionaries store key-value pairs and are mutable. They use curly braces `{}` with a colon `:` to separate keys and values.\n",
    "\n",
    "Creating a dictionary to store different information about the shed:"
   ]
  },
  {
   "cell_type": "code",
   "execution_count": null,
   "id": "0093901e-ca08-448f-9123-56bb99c2b12b",
   "metadata": {},
   "outputs": [],
   "source": [
    "shed = {\n",
    "    \"length\": 3.0,\n",
    "    \"width\": 2.5,\n",
    "    \"color\": \"red\",\n",
    "    \"windows_installed\": True\n",
    "}\n",
    "print(shed)"
   ]
  },
  {
   "cell_type": "markdown",
   "id": "c0b8a9e4-fb72-4c31-a5e2-258f93499a71",
   "metadata": {},
   "source": [
    "Unlike lists, which rely on position (index), dictionaries are accessed via keys. To access a value, provide its key in square brackets:"
   ]
  },
  {
   "cell_type": "code",
   "execution_count": null,
   "id": "7c11029f-cd4f-48d5-af4b-c704f5939fe8",
   "metadata": {},
   "outputs": [],
   "source": [
    "print(shed[\"length\"])  # 3.0 (value for \"length\" key)\n",
    "print(shed[\"color\"])   # \"red\" (value for \"color\" key)"
   ]
  },
  {
   "cell_type": "markdown",
   "id": "b39df597-608c-4882-90de-ac95592efde3",
   "metadata": {},
   "source": [
    "Dictionaries make data more explicit and self-describing. Suppose we have a list like this:"
   ]
  },
  {
   "cell_type": "code",
   "execution_count": null,
   "id": "e15aa3f5-ebe9-4886-93c1-8e7901dd3bb2",
   "metadata": {},
   "outputs": [],
   "source": [
    "name_list = [\"Alice\", \"Engineer\"]"
   ]
  },
  {
   "cell_type": "markdown",
   "id": "7f33218f-f812-4a2e-9398-005cd3080102",
   "metadata": {},
   "source": [
    "We can only assume index 0 is the first name of the person and index 1 is the role of the person. But with a dictionary:"
   ]
  },
  {
   "cell_type": "code",
   "execution_count": null,
   "id": "8d45cd0c-39fc-47c5-b7a6-7ed968dadc69",
   "metadata": {},
   "outputs": [],
   "source": [
    "person = {\"first_name\": \"Alice\", \"role\": \"Engineer\"}\n",
    "print(person[\"first_name\"])  # Clear and readable"
   ]
  },
  {
   "cell_type": "markdown",
   "id": "b180058e-75c9-4fc7-bb9c-420f94a43e6e",
   "metadata": {},
   "source": [
    "## 5. Loops and Logic\n",
    "\n",
    "## 5.1 For Loops - Repeating Over a List\n",
    "\n",
    "Loops help us **do something repeatedly** - like checking each item on a to-do list, renaming every interview file in a folder, or apply some modifications to texts line-by-line. Instead of copying and pasting code many times, we tell Python to repeat the task for each item in a collection. Specifically, a `for` loop is used to iterate over a sequence (such as a list, tuple, or string) or a range of numbers.\n",
    "\n",
    "Let’s say you're organizing your interview files in a list:"
   ]
  },
  {
   "cell_type": "code",
   "execution_count": null,
   "id": "8e90fcf4-a217-464d-b639-68478dec60a6",
   "metadata": {},
   "outputs": [],
   "source": [
    "filenames = [\"interview_alice.txt\", \"interview_bob.txt\", \"interview_linus.txt\"]"
   ]
  },
  {
   "cell_type": "markdown",
   "id": "fe86622c-b1c0-4f97-acbf-8eb8bf99ee64",
   "metadata": {},
   "source": [
    "You can use the `for` loop to print a confirmation message for each:"
   ]
  },
  {
   "cell_type": "code",
   "execution_count": null,
   "id": "75abbe7a-476a-4a2d-8fc6-ecb794621779",
   "metadata": {},
   "outputs": [],
   "source": [
    "for file in filenames:\n",
    "    print(\"Processing:\", file)"
   ]
  },
  {
   "cell_type": "markdown",
   "id": "f15fbf5b-cfc6-41b5-90ed-4d8274e2935e",
   "metadata": {},
   "source": [
    "All interviews took place in 2024 and you want to tag them:"
   ]
  },
  {
   "cell_type": "code",
   "execution_count": null,
   "id": "786baa90-e6bd-4072-a9dd-17675a94bee0",
   "metadata": {},
   "outputs": [],
   "source": [
    "labeled = []\n",
    "for file in filenames:\n",
    "    labeled.append(file.replace(\".txt\", \"_2024.txt\"))\n",
    "\n",
    "print(labeled)"
   ]
  },
  {
   "cell_type": "markdown",
   "id": "2cb04932-c335-4d90-ba95-b2fb3777d002",
   "metadata": {},
   "source": [
    "To repeat something a specific number of times, for example, printing row numbers or counting steps in a task:"
   ]
  },
  {
   "cell_type": "code",
   "execution_count": null,
   "id": "1b8194d3-2888-44c0-805d-ec89f58783b4",
   "metadata": {},
   "outputs": [],
   "source": [
    "for i in range(1, 4):\n",
    "    print(i)"
   ]
  },
  {
   "cell_type": "markdown",
   "id": "91aa9d60-5194-4472-b025-a53e8c3b6476",
   "metadata": {},
   "source": [
    "## 5.2 Numbering with `enumerate()`\n",
    "\n",
    "Sometimes, you want to know the **position of each item while looping** through a list - like numbering files or adding line numbers. That’s where `enumerate()` comes in handy.\n",
    "\n",
    "`enumerate(filenames)` gives you both:\n",
    "- `i` - the index (starting from 0)\n",
    "- `file` - the actual item in the list\n",
    "\n",
    "In the example below, we use `i + 1` to start counting from 1 which is more natural for people:"
   ]
  },
  {
   "cell_type": "code",
   "execution_count": null,
   "id": "bf0b4188-0211-4aaa-8e80-5f490b744e61",
   "metadata": {},
   "outputs": [],
   "source": [
    "for i, file in enumerate(filenames):\n",
    "    print(f\"{i + 1}. {file}\")"
   ]
  },
  {
   "cell_type": "markdown",
   "id": "91dfbc75-c26c-4168-a9b8-d997989d4c61",
   "metadata": {},
   "source": [
    "## 5.3 Conditional Logic & Repeating Tasks\n",
    "\n",
    "In Python, conditional statements let you check for specific situations and respond to them. They're essential for tagging, filtering, and making decisions in your code."
   ]
  },
  {
   "cell_type": "markdown",
   "id": "ab760076-72b7-44bd-9313-0d3c1feed285",
   "metadata": {},
   "source": [
    "## 5.3.1 `if`, `elif`, `else`\n",
    "\n",
    "Comparison operators help us to check values inside a loop and **checking conditions** in text-based data. Here are two examples using `==` and `in` inside a logic with `if` and `else`:"
   ]
  },
  {
   "cell_type": "code",
   "execution_count": null,
   "id": "79f4f353-2afb-4242-8a01-8d592cefebe7",
   "metadata": {},
   "outputs": [],
   "source": [
    "participant = \"Alice\"\n",
    "\n",
    "if participant.lower() == \"alice\":\n",
    "    print(\"Found Alice's transcript.\")\n",
    "else:\n",
    "    print(\"Still searching.\")"
   ]
  },
  {
   "cell_type": "code",
   "execution_count": null,
   "id": "d20d4089-a3d6-4a35-adba-684da5209b75",
   "metadata": {},
   "outputs": [],
   "source": [
    "team = [\"Alice\", \"Linus\", \"Mo\"]\n",
    "\n",
    "if \"Dana\" not in team:\n",
    "    print(\"Dana is not assigned to the team.\")"
   ]
  },
  {
   "cell_type": "markdown",
   "id": "0bf2910b-2d87-42c8-aede-6c2e1a93be33",
   "metadata": {},
   "source": [
    "### **Exercise 4:** \n",
    "\n",
    "You are reviewing interview comments. For each comment, check if it mentions the word \"climate\". If it does, print \"Relevant comment.\". If not, print \"Not relevant.\". Use a `for` loop and the `in` keyword inside an `if-else` statement to solve this.\n",
    "\n",
    "Here is a list of comments you can use:"
   ]
  },
  {
   "cell_type": "code",
   "execution_count": null,
   "id": "99dd63b7-949a-4f65-ab8b-ecda4d87d675",
   "metadata": {},
   "outputs": [],
   "source": [
    "comments = [\n",
    "    \"Climate change is real.\",\n",
    "    \"We talked about farming.\",\n",
    "    \"The climate is changing fast.\",\n",
    "    \"Only mentioning weather here.\"\n",
    "]"
   ]
  },
  {
   "cell_type": "code",
   "execution_count": null,
   "id": "eed40e90-03bd-4e23-b0e1-356e6b41df17",
   "metadata": {},
   "outputs": [],
   "source": [
    "for comment in comments:\n",
    "    if \"climate\" in comment.lower():\n",
    "        print(\"Relevant comment.\")\n",
    "    else:\n",
    "        print(\"Not relevant.\")"
   ]
  },
  {
   "cell_type": "markdown",
   "id": "ba5d81c1-fcd3-4d64-ae9d-ec032ba7bc45",
   "metadata": {},
   "source": [
    "## 5.3.2 `while`\n",
    "\n",
    "In `while` loops we **repeat something until a condition changes**. This is useful when you don’t know how many times you'll repeat. \n",
    "\n",
    "This while loop starts counting from 0 and continues printing numbers until it reaches 3:"
   ]
  },
  {
   "cell_type": "code",
   "execution_count": null,
   "id": "e95df8a0-3398-47f4-bae8-5dbedb3c419b",
   "metadata": {},
   "outputs": [],
   "source": [
    "count = 0\n",
    "\n",
    "while count < 3:\n",
    "    print(count)\n",
    "    count += 1"
   ]
  },
  {
   "cell_type": "markdown",
   "id": "80b7a0c9-f7a8-410a-878e-ab078c930cd1",
   "metadata": {},
   "source": [
    "## 5.4 List Comprehension (Shortcut)\n",
    "\n",
    "List comprehension is a compact and readable way to create a new list by transforming each item in an existing collection - like a **shortcut for a loop that builds a list**.\n",
    "\n",
    "Instead of writing:"
   ]
  },
  {
   "cell_type": "code",
   "execution_count": null,
   "id": "15f40202-5b41-4c30-8ee1-ea5e12999de1",
   "metadata": {},
   "outputs": [],
   "source": [
    "labeled = []\n",
    "for file in filenames:\n",
    "    labeled.append(file.replace(\".txt\", \"_2024.txt\"))\n",
    "\n",
    "print(labeled)"
   ]
  },
  {
   "cell_type": "markdown",
   "id": "44bfc9bd-8c5d-485a-815c-6d8f31923d82",
   "metadata": {},
   "source": [
    "You can write the same logic more concisely:"
   ]
  },
  {
   "cell_type": "code",
   "execution_count": null,
   "id": "b971abf8-a4f3-425e-a81a-6223286d34c2",
   "metadata": {},
   "outputs": [],
   "source": [
    "labeled = [file.replace(\".txt\", \"_2024.txt\") for file in filenames]\n",
    "\n",
    "print(labeled)"
   ]
  },
  {
   "cell_type": "markdown",
   "id": "1ff0867e-4e1e-486f-a932-8cc5d25676d9",
   "metadata": {},
   "source": [
    "List comprehension combines three things into one line:\n",
    "- Looping through each item,\n",
    "- Applying an operation to each item,\n",
    "- Collecting the results into a new list.\n",
    "\n",
    "Think of it as: *[new_item for item in original_list if condition]*\n",
    "\n",
    "Let's also include a condition in the list comprehension from above to only process files that actually end in `.txt`:"
   ]
  },
  {
   "cell_type": "code",
   "execution_count": null,
   "id": "a09c04b3-1a25-4092-9b69-96f81a3baecb",
   "metadata": {},
   "outputs": [],
   "source": [
    "labeled = [file.replace(\".txt\", \"_2024.txt\") for file in filenames if file.endswith(\".txt\")]"
   ]
  },
  {
   "cell_type": "markdown",
   "id": "58856380-0221-477d-9c5e-933a1fc1cc7b",
   "metadata": {},
   "source": [
    "## 6. Formal Coding in Python\n",
    "In this section, we'll explore **functions, classes, and libraries** - the building blocks of structured, reusable, and professional Python code. They help you write clean scripts, reduce repetition, and share your code more effectively with others.\n",
    "\n",
    "By formal coding, we mean writing code in a more structured and modular way - like organizing your tools, materials, and workstations on a construction site so you can build efficiently and correctly.\n",
    "\n",
    "Think of it like building your garden shed:\n",
    "- Functions are specialized tools - each one does a specific job, like a hammer, a saw, or a measuring tape.\n",
    "- A class is a blueprint (design plan) for a smart toolbox - it not only stores important materials, but also knows how to use built-in instructions (methods) to work with those materials. Each **object** you create from the class is like building a specific toolbox based on that blueprint.\n",
    "- Libraries are like borrowing tools and toolboxes from a neighbor – someone already built helpful tools you can use right away."
   ]
  },
  {
   "cell_type": "markdown",
   "id": "caf94670-e921-4a6e-97c4-94afab1ea906",
   "metadata": {},
   "source": [
    "## 6.1 Functions\n",
    "\n",
    "Functions in Python are **reusable blocks of code that perform a specific task**. They let you group instructions under a name and reuse them whenever needed. They help you avoid repeating yourself. Imagine needing to modify the text in an interview the same way over and over - you wouldn't want to write out each step again for every interview. You'd just want to say \"use these predefined instructions.\"\n",
    "\n",
    "In fact, we’ve already been using functions a lot in this script. We've used `append()` to add items to a list, `str()` to convert data to a string, `print()` to display output, ...\n",
    "\n",
    "You can name a function anything (without spaces), give it inputs (called parameters), and tell it what to return.\n",
    "\n",
    "Let's **define** a simple function to investigate it's structure:"
   ]
  },
  {
   "cell_type": "code",
   "execution_count": null,
   "id": "739c49d3-e5e7-4869-bc5c-1ae5682c6742",
   "metadata": {},
   "outputs": [],
   "source": [
    "def add_numbers(a, b):        # define a function with two inputs\n",
    "    return a + b              # return their sum"
   ]
  },
  {
   "cell_type": "markdown",
   "id": "24df121f-2728-4fb1-a5c1-814446822e8a",
   "metadata": {},
   "source": [
    "A function has:\n",
    "- a name (`add_numbers`)\n",
    "- parameters (`a`, `b`) — inputs the function will use\n",
    "- a return statement that starts with `return` — the output it gives back"
   ]
  },
  {
   "cell_type": "markdown",
   "id": "a45bb203-0e6e-4d57-94ce-5e0e5781c70c",
   "metadata": {},
   "source": [
    "To **call** the function, we need to provide actual values for the parameters defined in the function. We pass them inside the parentheses when calling the function:"
   ]
  },
  {
   "cell_type": "code",
   "execution_count": null,
   "id": "d6ed8353-8401-40bc-b1d8-0cad202b34d2",
   "metadata": {},
   "outputs": [],
   "source": [
    "result = add_numbers(3, 5)    # call the function with 3 and 5\n",
    "print(result)                 # Output: 8"
   ]
  },
  {
   "cell_type": "markdown",
   "id": "1654a822-20ec-4c34-bbb4-3baa88e90055",
   "metadata": {},
   "source": [
    "### Rock-paper-scissors game\n",
    "\n",
    "Let’s try a fun example that makes decisions! We write the rock-paper-scissors game in a Python function:\n",
    "\n",
    "<img src=\"../Images/schere-stein-papier.png\" style=\"width: 200px;\">\n",
    "\n",
    "*Image from Freepik, Flaticon*"
   ]
  },
  {
   "cell_type": "code",
   "execution_count": null,
   "id": "d62b2d1d-fcb9-4467-ab9f-dae2aaec8478",
   "metadata": {},
   "outputs": [],
   "source": [
    "import random # Import the random module to let the computer make a random choice\n",
    "\n",
    "def play_rps(player_choice):\n",
    "    options = (\"rock\", \"paper\", \"scissors\")  # Define the valid choices\n",
    "    computer = random.choice(options)        # Computer randomly picks one\n",
    "    player = player_choice.lower()           # Make the player's input lowercase to match the options\n",
    "\n",
    "    # Ensure valid input\n",
    "    if player not in options:\n",
    "        return \"Invalid choice. Please choose rock, paper, or scissors.\"\n",
    "\n",
    "    # Show both player and computer choices\n",
    "    print(f\"Player: {player}\")\n",
    "    print(f\"Computer: {computer}\")\n",
    "    \n",
    "    # Game logic to determine the result\n",
    "    if player == computer:\n",
    "        return \"It's a tie!\"\n",
    "    elif (player == \"rock\" and computer == \"scissors\") or \\\n",
    "         (player == \"paper\" and computer == \"rock\") or \\\n",
    "         (player == \"scissors\" and computer == \"paper\"):\n",
    "        return \"Player wins!\"  # Player wins in these combinations\n",
    "    else:\n",
    "        return \"Computer wins!\"  # Otherwise, computer wins"
   ]
  },
  {
   "cell_type": "markdown",
   "id": "b1a3ee39-4730-4e5c-b02b-ea84d5c082fd",
   "metadata": {},
   "source": [
    "When we call the function we now provide our guess inside the parentheses:"
   ]
  },
  {
   "cell_type": "code",
   "execution_count": null,
   "id": "74b9ea10-cf7f-45d0-8a97-0197a7e264a9",
   "metadata": {},
   "outputs": [],
   "source": [
    "play_rps(\"Paper\") # Change your guess inside the parentheses and run multiple times"
   ]
  },
  {
   "cell_type": "markdown",
   "id": "c7cc5f11-0eef-4745-843d-e80249de4e95",
   "metadata": {
    "jp-MarkdownHeadingCollapsed": true
   },
   "source": [
    "## 6.2 Classes\n",
    "\n",
    "In Python, classes let you create your own data structures and define methods (functions inside a class) that work directly with the data. Think of a class as a template for building objects that bundle data and the actions you want to perform on that data.\n",
    "\n",
    "Let’s define a class called `Interview`. This class will store information about one interview:"
   ]
  },
  {
   "cell_type": "code",
   "execution_count": null,
   "id": "ae5db437-8f2d-4641-9530-37255a127732",
   "metadata": {},
   "outputs": [],
   "source": [
    "class Interview:\n",
    "    def __init__(self, participant, date, transcript):\n",
    "        self.participant = participant # Stores the name of the interviewee\n",
    "        self.date = date               # Records when the interview took place\n",
    "        self.transcript = transcript   # Contains the text of the interview"
   ]
  },
  {
   "cell_type": "markdown",
   "id": "2459ac06-7676-411c-9813-8a478487d682",
   "metadata": {},
   "source": [
    "What’s going on here?\n",
    "- class `Interview` - We’re creating a new class called Interview.\n",
    "- `def __init__(self, participant, date, transcript):` - This defines a special method called a constructor. It’s used to set up the object with the information it needs - like the participant’s name, the interview date, and the transcript. You don’t call this method yourself. Python will run this method automatically whenever you create a new `Interview` object.\n",
    "- `self.` - Refers to the specific object being created. It’s how the object keeps track of its own data. For example: `self.participant = participant` means \"store the participant’s name inside this interview.\" Each interview object (like interview1, interview2, etc.) has its own separate data, stored using self.\n",
    "\n",
    "When a class only holds data (like in this example), it’s similar to a dictionary. However, the true power of classes lies in their ability to also include methods - functions that work with the data inside the object. Let's enhance our `Interview` class by adding a method to summarize the transcript:"
   ]
  },
  {
   "cell_type": "code",
   "execution_count": null,
   "id": "8d4f17ae-c950-4c80-b9c3-f81c20216fc7",
   "metadata": {},
   "outputs": [],
   "source": [
    "class Interview:\n",
    "    def __init__(self, participant, date, transcript):\n",
    "        self.participant = participant\n",
    "        self.date = date\n",
    "        self.transcript = transcript\n",
    "\n",
    "    def summarize(self):\n",
    "        # Return the first 100 characters of the transcript as a simple summary\n",
    "        return self.transcript[:100] + '...'"
   ]
  },
  {
   "cell_type": "markdown",
   "id": "98251033-6885-4e30-98f0-ac6f41fba54c",
   "metadata": {},
   "source": [
    "With this class, we can create interview objects and get a quick summary:"
   ]
  },
  {
   "cell_type": "code",
   "execution_count": null,
   "id": "109f2f23-b343-4e4f-b3f0-e78c63af9344",
   "metadata": {},
   "outputs": [],
   "source": [
    "interview1 = Interview(\"Alice\", \"2025-05-06\", \"This is the transcript text.\")\n",
    "print(interview1.summarize())"
   ]
  },
  {
   "cell_type": "markdown",
   "id": "d8eee2e8-f58e-49ae-a387-5c61234867e7",
   "metadata": {},
   "source": [
    "Classes help keep data and the functions that operate on it bundled together, making your code more organized and easier to manage. That said, in many common Python tasks - like visualizing data, using existing machine learning models, or working with data in pandas - you can do everything you need without writing your own classes. If you're mainly applying existing tools and libraries, classes might not be necessary. However, as your projects grow or become more complex - for example, if you're building your own models, creating reusable tools, or working on larger codebases - classes can help you write cleaner, more maintainable code. This was just a brief introduction. If you want to go deeper, here is a helpful resource: https://realpython.com/python-classes/."
   ]
  },
  {
   "cell_type": "markdown",
   "id": "864af554-9a4a-49f0-8248-6a2fed3bd214",
   "metadata": {},
   "source": [
    "## 6.3 Libraries"
   ]
  },
  {
   "cell_type": "markdown",
   "id": "34a97708-a1ae-49ae-8831-d5c3d3319030",
   "metadata": {},
   "source": [
    "You don’t always need to build your own tools. Libraries are packages of code created by others. Using them saves time and effort, and you benefit from tools that are already well-designed and tested. Using libraries is considered best practice in modern Python development. Most Python workflows rely on well-known general-purpose libraries like `pandas` or `numpy`. In addition to these, there are also specialized libraries tailored to specific needs, like `matplotlib` for advanced data visualization.\n",
    "\n",
    "To **install** a library using `pip` in a Jupyter notebook, add an exclamation mark `!` before the command (in a regular terminal, you use the command without `!`):"
   ]
  },
  {
   "cell_type": "code",
   "execution_count": null,
   "id": "c72c1e04-5324-442c-870d-c0679bf58135",
   "metadata": {},
   "outputs": [],
   "source": [
    "!pip install pandas"
   ]
  },
  {
   "cell_type": "markdown",
   "id": "d318cdec-4a5b-409b-9d99-0e237beb6102",
   "metadata": {},
   "source": [
    "To **use a library** in your code, you first need to **import** it. This tells Python to load the tools from the library so you can use them.\n",
    "\n",
    "Sometimes, libraries are given short nicknames to make them easier to work with. For example, `pandas` is often imported as `pd` - this saves typing and is a widely accepted convention in the Python community."
   ]
  },
  {
   "cell_type": "code",
   "execution_count": null,
   "id": "dd61da79-7ebf-4c6d-a0a2-c95dadba7f43",
   "metadata": {},
   "outputs": [],
   "source": [
    "import pandas as pd"
   ]
  }
 ],
 "metadata": {
  "kernelspec": {
   "display_name": "Python 3 (ipykernel)",
   "language": "python",
   "name": "python3"
  },
  "language_info": {
   "codemirror_mode": {
    "name": "ipython",
    "version": 3
   },
   "file_extension": ".py",
   "mimetype": "text/x-python",
   "name": "python",
   "nbconvert_exporter": "python",
   "pygments_lexer": "ipython3",
   "version": "3.11.9"
  }
 },
 "nbformat": 4,
 "nbformat_minor": 5
}
